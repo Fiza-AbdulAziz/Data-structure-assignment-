{
 "cells": [
  {
   "cell_type": "code",
   "execution_count": null,
   "id": "8e256d43-f762-4388-9eda-09eb4c5ffdae",
   "metadata": {},
   "outputs": [],
   "source": [
    "Recursion\n",
    "Assignment Questions\n"
   ]
  },
  {
   "cell_type": "code",
   "execution_count": null,
   "id": "75a5f92d-fc7a-4d63-adde-54cb44e7c98c",
   "metadata": {},
   "outputs": [],
   "source": [
    "Q.1 Can you explain the logic and working of the Tower of Hanoi algorithm by writing a python program? \n",
    "\n",
    "How does the recursion work, and how are the movements of disks between rods accomplished?\n",
    "\n",
    "\n",
    "Q.2 Given two strings word1 and word2, return the minimum number of operations required to convert word1 \n",
    "\n",
    "to word2.\n",
    "\n",
    "Example 1:\n",
    "\n",
    " Input: word1 = \"horse\", word2 = \"ros\"\n",
    "\n",
    " Output: 3\n",
    "\n",
    " Explanation: \n",
    "\n",
    " horse -> rorse (replace 'h' with 'r')\n",
    "\n",
    " rorse -> rose (remove 'r')\n",
    "\n",
    " rose -> ros (remove 'e')\n",
    "\n",
    "Example 2:\n",
    "\n",
    " Input: word1 = \"intention\", word2 = \"execution\"\n",
    "\n",
    " Output: 5\n",
    "\n",
    " Explanation: \n",
    "\n",
    " intention -> inention (remove 't')\n",
    "\n",
    " inention -> enention (replace 'i' with 'e')\n",
    "\n",
    " enention -> exention (replace 'n' with 'x')\n",
    "\n",
    " exention -> exection (replace 'n' with 'c')\n",
    "\n",
    " exection -> execution (insert 'u')\n",
    "Q. 3 Print the max value of the array [ 13, 1, -3, 22, 5].\n",
    "\n",
    "Q.4 Find the sum of the values of the array [92, 23, 15, -20, 10].\n",
    "\n",
    "Q.5 Given a number n. Print if it is an armstrong number or not.An armstrong number is a number if the sum\n",
    "of every digit in that number raised to the power of total digits in that number is equal to the number.\n",
    "\n",
    "Example : 153 = 1^3 + 5^3 + 3^3 = 1 + 125 + 27 = 153 hence 153 is an armstrong number. (Easy)\n",
    "\n",
    "\n",
    "Input1 : 153\n",
    "\n",
    "\n",
    "Output1 : Yes\n",
    "\n",
    "\n",
    "\n",
    "Input 2 : 134\n",
    "\n",
    "Output2 : No"
   ]
  },
  {
   "cell_type": "code",
   "execution_count": 4,
   "id": "fa972381-c4b9-41cd-a7d1-5de72db4a885",
   "metadata": {},
   "outputs": [
    {
     "name": "stdout",
     "output_type": "stream",
     "text": [
      "1\n",
      "3\n",
      "7\n"
     ]
    }
   ],
   "source": [
    "#Q.1 Can you explain the logic and working of the Tower of Hanoi algorithm by writing a python program? \n",
    "#How does the recursion work, and how are the movements of disks between rods accomplished?\n",
    "def tower_ofHanoi_moves(n,a,c,b):\n",
    "    #base condition \n",
    "    if n == 1:\n",
    "        return 1\n",
    "    # move n-1 disk to  a->b then\n",
    "    # move s bigger 0ne dices source to destination a->c \n",
    "    # then move  n-1 disk to  b->c\n",
    "    return tower_ofHanoi(n-1,a,b,c) + 1 + tower_ofHanoi(n-1,b,c,a)\n",
    "    \n",
    "print(tower_ofHanoi_moves(1,'a','c','b'))\n",
    "print(tower_ofHanoi_moves(2,'a','c','b'))\n",
    "print(tower_ofHanoi_moves(3,'a','c','b'))\n",
    "    "
   ]
  },
  {
   "cell_type": "raw",
   "id": "abed33a7-0656-42e9-b4ac-f624a0124ef2",
   "metadata": {},
   "source": [
    "def moves(n, s ,d , a):\n",
    "  # Base condition\n",
    "  if n == 1 :\n",
    "    return 1\n",
    "\n",
    "  # move n-1 s->a , then move 1 biggest coin to s->d and then n-1 coin a-d\n",
    "  return moves(n-1,s,a,d) + 1 + moves(n-1,a,d,s)\n",
    "\n",
    "print(moves(1,'s','d','a'))\n",
    "print(moves(2,'s','d','a'))\n",
    "print(moves(3,'s','d','a'))"
   ]
  },
  {
   "cell_type": "markdown",
   "id": "7c522777-65b8-4fa4-805a-9a3a8ad93745",
   "metadata": {},
   "source": [
    "Q.2 Given two strings word1 and word2, return the minimum number of operations required to convert word1 \n",
    "\n",
    "to word2.\n",
    "\n",
    "Example 1:\n",
    "\n",
    " Input: word1 = \"horse\", word2 = \"ros\"\n",
    "\n",
    " Output: 3\n",
    "\n",
    " Explanation: \n",
    "\n",
    " horse -> rorse (replace 'h' with 'r')\n",
    "\n",
    " rorse -> rose (remove 'r')\n",
    "\n",
    " rose -> ros (remove 'e')"
   ]
  },
  {
   "cell_type": "code",
   "execution_count": 1,
   "id": "c46895a4-5cf0-4cdc-bd34-9e881a523472",
   "metadata": {},
   "outputs": [
    {
     "name": "stdout",
     "output_type": "stream",
     "text": [
      "3\n"
     ]
    }
   ],
   "source": [
    "def minDistance(word1, word2):\n",
    "    def helper(i, j):\n",
    "        # Base cases: if one of the words is empty, return the length of the other word\n",
    "        if i == 0:\n",
    "            return j\n",
    "        if j == 0:\n",
    "            return i\n",
    "\n",
    "        # If the last characters are the same, no operation is needed\n",
    "        if word1[i - 1] == word2[j - 1]:\n",
    "            return helper(i - 1, j - 1)\n",
    "\n",
    "        # Otherwise, consider three operations: deletion, insertion, and replacement\n",
    "        delete = helper(i - 1, j) + 1\n",
    "        insert = helper(i, j - 1) + 1\n",
    "        replace = helper(i - 1, j - 1) + 1\n",
    "\n",
    "        # Return the minimum of the three operations\n",
    "        return min(delete, insert, replace)\n",
    "\n",
    "    # Call the helper function with the lengths of the words\n",
    "    return helper(len(word1), len(word2))\n",
    "\n",
    "# Example\n",
    "word1 = \"horse\"\n",
    "word2 = \"ros\"\n",
    "result = minDistance(word1, word2)\n",
    "print(result)\n"
   ]
  },
  {
   "cell_type": "code",
   "execution_count": 21,
   "id": "5daec74e-1ec7-4a75-bc1f-7a7a0d2e31ac",
   "metadata": {},
   "outputs": [
    {
     "name": "stdout",
     "output_type": "stream",
     "text": [
      "22\n"
     ]
    }
   ],
   "source": [
    "#Q. 3 Print the max value of the array [ 13, 1, -3, 22, 5].\n",
    "def max_array(arr,n):\n",
    "    if n>=len(arr):\n",
    "        return  0\n",
    "    return (maxValue(arr[n],max_array(arr,n+1)))\n",
    "def maxValue(n1,n2):\n",
    "    max=0\n",
    "    if n1>n2:\n",
    "        return n1\n",
    "    return n2    \n",
    "\n",
    "arr=[13,1,-1,22,5]\n",
    "v=max_array(arr,0)\n",
    "print(v)  "
   ]
  },
  {
   "cell_type": "code",
   "execution_count": 26,
   "id": "a47bf2ef-5d4e-4408-b667-0bc768d0270c",
   "metadata": {},
   "outputs": [
    {
     "name": "stdout",
     "output_type": "stream",
     "text": [
      "120\n"
     ]
    }
   ],
   "source": [
    "#Q.4 Find the sum of the values of the array [92, 23, 15, -20, 10].\n",
    "\n",
    "def sum_array(arr,sI):\n",
    "    if sI==len(arr):\n",
    "        return arr[0]\n",
    "    return sum(arr[sI],sum_array(arr,si+1))\n",
    "\n",
    "def sumation(n1,n2):\n",
    "    if n1 and n2:\n",
    "        sum=n1+n2\n",
    "\n",
    "    return sum\n",
    "arr=[92, 23, 15, -20, 10]\n",
    "print(sum(arr))"
   ]
  },
  {
   "cell_type": "markdown",
   "id": "44cd325c-6500-431f-aae7-acec4a5b6e0b",
   "metadata": {},
   "source": [
    "Q.5 Given a number n. Print if it is an armstrong number or not.An armstrong number is a number if the sum\n",
    "of every digit in that number raised to the power of total digits in that number is equal to the number.\n",
    "\n",
    "Example : 153 = 1^3 + 5^3 + 3^3 = 1 + 125 + 27 = 153 hence 153 is an armstrong number. (Easy)\n",
    "\n",
    "\n",
    "Input1 : 153\n",
    "\n",
    "\n",
    "Output1 : Yes\n",
    "\n",
    "\n",
    "\n",
    "Input 2 : 134\n",
    "\n",
    "Output2 : No"
   ]
  },
  {
   "cell_type": "code",
   "execution_count": 19,
   "id": "7d529ec6-e24c-4916-9d70-fdfff4105354",
   "metadata": {},
   "outputs": [
    {
     "name": "stdin",
     "output_type": "stream",
     "text": [
      "enter a number to check its an armstrong number or not: 153\n"
     ]
    },
    {
     "name": "stdout",
     "output_type": "stream",
     "text": [
      "153 is an Armstrong Number.\n"
     ]
    }
   ],
   "source": [
    "def armstrong(n):\n",
    "    if n==0 :\n",
    "        return n\n",
    "    else:\n",
    "        return pow((n%10),order) + armstrong(n//10)\n",
    "    \n",
    "n=int(input(\"enter a number to check its an armstrong number or not:\"))\n",
    "order=len(str(n))\n",
    "sum = armstrong(n)\n",
    "\n",
    "if sum == int(n):\n",
    "    print(n,\"is an Armstrong Number.\")    \n",
    "else:\n",
    "    print(n,\"is not an Armstrong Number.\")    \n"
   ]
  }
 ],
 "metadata": {
  "kernelspec": {
   "display_name": "Python 3 (ipykernel)",
   "language": "python",
   "name": "python3"
  },
  "language_info": {
   "codemirror_mode": {
    "name": "ipython",
    "version": 3
   },
   "file_extension": ".py",
   "mimetype": "text/x-python",
   "name": "python",
   "nbconvert_exporter": "python",
   "pygments_lexer": "ipython3",
   "version": "3.10.8"
  }
 },
 "nbformat": 4,
 "nbformat_minor": 5
}
